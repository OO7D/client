{
 "cells": [
  {
   "cell_type": "code",
   "execution_count": 23,
   "metadata": {
    "collapsed": true
   },
   "outputs": [
    {
     "name": "stdout",
     "output_type": "stream",
     "text": [
      "검색할 의류: 남자 검은색 바지\n"
     ]
    },
    {
     "data": {
      "text/html": [
       "<div>\n",
       "<style scoped>\n",
       "    .dataframe tbody tr th:only-of-type {\n",
       "        vertical-align: middle;\n",
       "    }\n",
       "\n",
       "    .dataframe tbody tr th {\n",
       "        vertical-align: top;\n",
       "    }\n",
       "\n",
       "    .dataframe thead th {\n",
       "        text-align: right;\n",
       "    }\n",
       "</style>\n",
       "<table border=\"1\" class=\"dataframe\">\n",
       "  <thead>\n",
       "    <tr style=\"text-align: right;\">\n",
       "      <th></th>\n",
       "      <th>title</th>\n",
       "      <th>link</th>\n",
       "      <th>image</th>\n",
       "    </tr>\n",
       "  </thead>\n",
       "  <tbody>\n",
       "    <tr>\n",
       "      <th>0</th>\n",
       "      <td>(국내 매장판)나이키 레트로 우븐 플로우 쇼트 칵테일 파크 반바지 블랙 핑크 형광</td>\n",
       "      <td>https://search.shopping.naver.com/gate.nhn?id=...</td>\n",
       "      <td>https://shopping-phinf.pstatic.net/main_820077...</td>\n",
       "    </tr>\n",
       "  </tbody>\n",
       "</table>\n",
       "</div>"
      ],
      "text/plain": [
       "                                           title  \\\n",
       "0  (국내 매장판)나이키 레트로 우븐 플로우 쇼트 칵테일 파크 반바지 블랙 핑크 형광   \n",
       "\n",
       "                                                link  \\\n",
       "0  https://search.shopping.naver.com/gate.nhn?id=...   \n",
       "\n",
       "                                               image  \n",
       "0  https://shopping-phinf.pstatic.net/main_820077...  "
      ]
     },
     "execution_count": 23,
     "metadata": {},
     "output_type": "execute_result"
    }
   ],
   "source": [
    "import os\n",
    "import sys\n",
    "import urllib.request\n",
    "import pandas as pd\n",
    "import json\n",
    "import re\n",
    "\n",
    "client_id = \"\" #id 입력\n",
    "client_secret = \"\" #secret 입력\n",
    "\n",
    "query = urllib.parse.quote(input(\"검색할 의류: \"))\n",
    "url = \"https://openapi.naver.com/v1/search/shop?query=\" + query # json 결과\n",
    "\n",
    "# 결과값으로 하나만 받기위해 display를 1로 설정 (default 값은 10개)\n",
    "display = 1\n",
    "\n",
    "result = pd.DataFrame(columns=(\"title\", \"link\", \"image\"))\n",
    "\n",
    "request = urllib.request.Request(url)\n",
    "request.add_header(\"X-Naver-Client-Id\",client_id)\n",
    "request.add_header(\"X-Naver-Client-Secret\",client_secret)\n",
    "response = urllib.request.urlopen(request)\n",
    "rescode = response.getcode()\n",
    "if(rescode==200):\n",
    "    response_body = response.read()\n",
    "    response_dict = json.loads(response_body.decode('utf-8'))\n",
    "    items = response_dict['items']\n",
    "    remove_tag = re.compile('<.*?>')\n",
    "    title = re.sub(remove_tag, '', items[0]['title'])\n",
    "    link = items[0]['link']\n",
    "    image = re.sub(remove_tag, '', items[0]['image'])\n",
    "    result.loc[0] = [title, link, image]\n",
    "else:\n",
    "    print(\"Error Code:\" + rescode)\n",
    "result"
   ]
  }
 ],
 "metadata": {
  "kernelspec": {
   "display_name": "Python 3",
   "language": "python",
   "name": "python3"
  },
  "language_info": {
   "codemirror_mode": {
    "name": "ipython",
    "version": 3
   },
   "file_extension": ".py",
   "mimetype": "text/x-python",
   "name": "python",
   "nbconvert_exporter": "python",
   "pygments_lexer": "ipython3",
   "version": "3.8.5"
  }
 },
 "nbformat": 4,
 "nbformat_minor": 4
}
